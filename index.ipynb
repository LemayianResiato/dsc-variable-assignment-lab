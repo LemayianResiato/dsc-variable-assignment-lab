{
 "cells": [
  {
   "cell_type": "markdown",
   "metadata": {},
   "source": [
    "# Introduction to Variables: Variable Assignment - Lab"
   ]
  },
  {
   "cell_type": "markdown",
   "metadata": {},
   "source": [
    "## Introduction\n",
    "Now that we know about variables, we want to put them to use by associating them with some data.  Here, we will be using variables to store information related to a vacation that we would like to go on.\n",
    "\n",
    "Just as before, we ask you to run the code and ensure that it matches what is commented out."
   ]
  },
  {
   "cell_type": "markdown",
   "metadata": {},
   "source": [
    "## Objectives\n",
    "\n",
    "You will be able to:\n",
    "\n",
    "* Assign and declare a python variable"
   ]
  },
  {
   "cell_type": "code",
   "execution_count": 1,
   "metadata": {},
   "outputs": [
    {
     "name": "stdout",
     "output_type": "stream",
     "text": [
      "Hello world\n"
     ]
    }
   ],
   "source": [
    "print(\"Hello world\")"
   ]
  },
  {
   "cell_type": "markdown",
   "metadata": {},
   "source": [
    "## Assigning variables"
   ]
  },
  {
   "cell_type": "markdown",
   "metadata": {},
   "source": [
    "Assign the string \"January\" to the variable `travel_month`, as that is the month we would like to travel."
   ]
  },
  {
   "cell_type": "code",
   "execution_count": 2,
   "metadata": {},
   "outputs": [],
   "source": [
    "travel_month = \"January\" #Assigning January to travel_month(variable)"
   ]
  },
  {
   "cell_type": "markdown",
   "metadata": {},
   "source": [
    "> We start by setting the variable equal to the data type None.  As we know, `None` represents the absence of a value. Now we can take care of assigning the variable to something other than `None`."
   ]
  },
  {
   "cell_type": "code",
   "execution_count": 3,
   "metadata": {},
   "outputs": [
    {
     "data": {
      "text/plain": [
       "'January'"
      ]
     },
     "execution_count": 3,
     "metadata": {},
     "output_type": "execute_result"
    }
   ],
   "source": [
    "travel_month # \"January\" #Calling the variable assigned to travel_month"
   ]
  },
  {
   "cell_type": "markdown",
   "metadata": {},
   "source": [
    "Now let's assign a variable equal to the number of weeks that we would like to travel, 3. "
   ]
  },
  {
   "cell_type": "code",
   "execution_count": 4,
   "metadata": {},
   "outputs": [],
   "source": [
    "number_of_weeks = 3 #Assigning 3 to no.of_weeks(variable)"
   ]
  },
  {
   "cell_type": "code",
   "execution_count": 5,
   "metadata": {
    "scrolled": true
   },
   "outputs": [
    {
     "data": {
      "text/plain": [
       "3"
      ]
     },
     "execution_count": 5,
     "metadata": {},
     "output_type": "execute_result"
    }
   ],
   "source": [
    "number_of_weeks # 3 #Calling the variable assigned to no.of weeks"
   ]
  },
  {
   "cell_type": "code",
   "execution_count": 6,
   "metadata": {},
   "outputs": [
    {
     "data": {
      "text/plain": [
       "3"
      ]
     },
     "execution_count": 6,
     "metadata": {},
     "output_type": "execute_result"
    }
   ],
   "source": [
    "number_of_weeks"
   ]
  },
  {
   "cell_type": "markdown",
   "metadata": {},
   "source": [
    "UPDATE: we just learned that we can travel for a longer period of time. So, we need to reassign the `number_of_weeks` variable to 5."
   ]
  },
  {
   "cell_type": "code",
   "execution_count": 7,
   "metadata": {},
   "outputs": [
    {
     "data": {
      "text/plain": [
       "5"
      ]
     },
     "execution_count": 7,
     "metadata": {},
     "output_type": "execute_result"
    }
   ],
   "source": [
    "number_of_weeks = number_of_weeks + 2\n",
    "number_of_weeks #5"
   ]
  },
  {
   "cell_type": "markdown",
   "metadata": {},
   "source": [
    "Now that's more like it.\n",
    "\n",
    "Finally, let's create a string that uses both of these variables to tell us how many weeks we will be traveling in our travel month. The string should read `\"I will be traveling 5 weeks starting in the month of January\"`. The process of using one or more variables as placeholders within a larger string is called **string interpolation**.  Interpolate the `num_of_weeks` and `travel_month` to get the correct string.\n",
    "\n",
    "> **Remember:** We can interpolate strings in the following ways:\n",
    "* \"Start of string\" + variable_to_interpolate_1 + \"middle\" + variable_to_interpolate_2 + \"end of string\"\n",
    "* \"Start of string {variable_1} middle {variable_2} end of string\".format(variable_1=variable_to_interpolate, variable_2=variable_to_interpolate)\n",
    "* f\"Start of string {variable_to_interpolate_1} middle {variable_to_interpolate_2} end of string\" "
   ]
  },
  {
   "cell_type": "code",
   "execution_count": 8,
   "metadata": {},
   "outputs": [
    {
     "data": {
      "text/plain": [
       "'January'"
      ]
     },
     "execution_count": 8,
     "metadata": {},
     "output_type": "execute_result"
    }
   ],
   "source": [
    "traveling_month = \"January\"\n",
    "traveling_month"
   ]
  },
  {
   "cell_type": "code",
   "execution_count": 9,
   "metadata": {},
   "outputs": [
    {
     "data": {
      "text/plain": [
       "'3'"
      ]
     },
     "execution_count": 9,
     "metadata": {},
     "output_type": "execute_result"
    }
   ],
   "source": [
    "number_of_weeks = \"3\"\n",
    "number_of_weeks"
   ]
  },
  {
   "cell_type": "code",
   "execution_count": 10,
   "metadata": {},
   "outputs": [
    {
     "data": {
      "text/plain": [
       "'5'"
      ]
     },
     "execution_count": 10,
     "metadata": {},
     "output_type": "execute_result"
    }
   ],
   "source": [
    "number_of_weeks = \"5\"\n",
    "number_of_weeks"
   ]
  },
  {
   "cell_type": "code",
   "execution_count": 11,
   "metadata": {},
   "outputs": [
    {
     "data": {
      "text/plain": [
       "'I will be traveling 5 weeks starting in the month of January'"
      ]
     },
     "execution_count": 11,
     "metadata": {},
     "output_type": "execute_result"
    }
   ],
   "source": [
    "#Concatenation method\n",
    "\"I will be traveling \" + number_of_weeks + \" weeks starting in the month of \" + traveling_month"
   ]
  },
  {
   "cell_type": "code",
   "execution_count": 12,
   "metadata": {},
   "outputs": [
    {
     "name": "stdout",
     "output_type": "stream",
     "text": [
      "I will be traveling 5 weeks starting in the month of January\n"
     ]
    }
   ],
   "source": [
    "#f string method\n",
    "print(f\"I will be traveling { number_of_weeks } weeks starting in the month of {traveling_month}\")"
   ]
  },
  {
   "cell_type": "code",
   "execution_count": 13,
   "metadata": {},
   "outputs": [
    {
     "name": "stdout",
     "output_type": "stream",
     "text": [
      "I will be traveling 5 weeks starting in the month of January\n"
     ]
    }
   ],
   "source": [
    "#format() method\n",
    "print(\"I will be traveling {} weeks starting in the month of {}\".format(number_of_weeks, traveling_month))"
   ]
  },
  {
   "cell_type": "markdown",
   "metadata": {},
   "source": [
    "### Summary"
   ]
  },
  {
   "cell_type": "markdown",
   "metadata": {},
   "source": [
    "Great! In this lab, we were able to get some more practice with storing information in variables through assignment and reassignment."
   ]
  },
  {
   "cell_type": "markdown",
   "metadata": {},
   "source": [
    "### More Practice 😎😎"
   ]
  },
  {
   "cell_type": "code",
   "execution_count": 14,
   "metadata": {},
   "outputs": [],
   "source": [
    "travel_month = 'December'\n",
    "duration = 2\n",
    "hotel = 'Emirates Grand Hotel'\n",
    "destination = 'Dubai'\n",
    "sceneries = 'Desert', 'Burj Khalifa', 'The Dubai Mall'"
   ]
  },
  {
   "cell_type": "code",
   "execution_count": 15,
   "metadata": {},
   "outputs": [
    {
     "name": "stdout",
     "output_type": "stream",
     "text": [
      "I will be travelling to Dubai on December for 2 weeks. I'll be staying at Emirates Grand Hotel. We will visit the ('Desert', 'Burj Khalifa', 'The Dubai Mall')\n"
     ]
    }
   ],
   "source": [
    "#f method \n",
    "print(f\"I will be travelling to {destination} on {travel_month} for {duration} weeks. I'll be staying at {hotel}. We will visit the {sceneries}\")"
   ]
  },
  {
   "cell_type": "code",
   "execution_count": 16,
   "metadata": {
    "scrolled": true
   },
   "outputs": [
    {
     "name": "stdout",
     "output_type": "stream",
     "text": [
      "I will be travelling to Dubai on December for 2 weeks. I'll be staying at Emirates Grand Hotel. We will visit the ('Desert', 'Burj Khalifa', 'The Dubai Mall')\n"
     ]
    }
   ],
   "source": [
    "#Using format method\n",
    "print(\"I will be travelling to {} on {} for {} weeks. I'll be staying at {}. We will visit the {}\".format(destination, travel_month, duration, hotel, sceneries))"
   ]
  }
 ],
 "metadata": {
  "kernelspec": {
   "display_name": "Python 3",
   "language": "python",
   "name": "python3"
  },
  "language_info": {
   "codemirror_mode": {
    "name": "ipython",
    "version": 3
   },
   "file_extension": ".py",
   "mimetype": "text/x-python",
   "name": "python",
   "nbconvert_exporter": "python",
   "pygments_lexer": "ipython3",
   "version": "3.8.5"
  }
 },
 "nbformat": 4,
 "nbformat_minor": 2
}
